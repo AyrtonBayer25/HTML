{
 "cells": [
  {
   "cell_type": "code",
   "execution_count": 2,
   "metadata": {},
   "outputs": [],
   "source": [
    "# Dependencies\n",
    "from bs4 import BeautifulSoup\n",
    "import requests\n",
    "import pymongo"
   ]
  },
  {
   "cell_type": "code",
   "execution_count": 3,
   "metadata": {},
   "outputs": [],
   "source": [
    "# Initialize PyMongo to work with MongoDBs\n",
    "conn = 'mongodb://localhost:27017'\n",
    "client = pymongo.MongoClient(conn)"
   ]
  },
  {
   "cell_type": "code",
   "execution_count": 4,
   "metadata": {},
   "outputs": [],
   "source": [
    "# Define database and collection\n",
    "db = client.nhl_db\n",
    "collection = db.articles"
   ]
  },
  {
   "cell_type": "code",
   "execution_count": 5,
   "metadata": {},
   "outputs": [],
   "source": [
    "# URL of page to be scraped\n",
    "url = 'https://www.nhl.com/'"
   ]
  },
  {
   "cell_type": "code",
   "execution_count": 9,
   "metadata": {},
   "outputs": [],
   "source": [
    "# Retrieve page with the requests module\n",
    "response = requests.get(url)"
   ]
  },
  {
   "cell_type": "code",
   "execution_count": 10,
   "metadata": {},
   "outputs": [],
   "source": [
    "# Create BeautifulSoup object; parse with 'lxml'\n",
    "soup = BeautifulSoup(response.text, 'lxml')"
   ]
  },
  {
   "cell_type": "code",
   "execution_count": 13,
   "metadata": {},
   "outputs": [
    {
     "name": "stdout",
     "output_type": "stream",
     "text": [
      "-----------------\n",
      "Zucker, subject of trade rumors, not worried about new Wild GM\n",
      "Forward, teammates waiting to see who replaces Fenton\n",
      "2019-07-31\n",
      "23:37pm\n",
      "-----------------\n",
      "Anaheim Ducks fantasy preview for 2019-20\n",
      "Gibson among elite goalie options; Rakell, Kase have high goal-scoring ceilings\n",
      "2019-08-01\n",
      "00:00am\n",
      "-----------------\n",
      "Three questions facing Anaheim Ducks\n",
      "Scoring, defensive depth among concerns under new coach Eakins\n",
      "2019-08-01\n",
      "00:00am\n",
      "-----------------\n",
      "Meruelo made sure Kessel came to Coyotes\n",
      "First Hispanic NHL owner exerted early influence getting trade done\n",
      "2019-08-01\n",
      "19:25pm\n",
      "-----------------\n",
      "Fantasy second line rankings for 2019-20\n",
      "Kane gives DeBrincat-Strome duo higher gear; Nylander has bounce-back appeal on Matthews' projected unit\n",
      "2019-08-01\n",
      "12:05am\n",
      "-----------------\n",
      "Elie agrees to one-year, two-way contract with Sabres\n",
      "Forward gets $700,000, avoids arbitration ruling\n",
      "2019-08-01\n",
      "13:18pm\n",
      "-----------------\n",
      "Tolvanen hoping to accelerate development with Predators\n",
      "Forward staying persistent in pursuit of full-time NHL role\n",
      "2019-08-01\n",
      "00:00am\n",
      "-----------------\n",
      "USA Hockey NTDP alumni enjoying reunion at World Junior Summer Showcase\n",
      "Prospects competing for WJC roster spots during what could be final time together\n",
      "2019-08-01\n",
      "00:00am\n",
      "-----------------\n",
      "Top prospects for Anaheim Ducks\n",
      "Steel, Comtois, Guhle expected to make NHL impact this season\n",
      "2019-08-01\n",
      "00:00am\n",
      "-----------------\n",
      "World Junior Summer Showcase Day 7 notebook\n",
      "Lundell not following in father's footsteps for Finland; Robertson showing versatility for U.S.\n",
      "2019-08-01\n",
      "15:50pm\n",
      "-----------------\n",
      "Braun changes teams, coasts with trade to Flyers\n",
      "Defenseman who played nine seasons for Sharks excited to join Philadelphia\n",
      "2019-08-01\n",
      "12:30am\n",
      "-----------------\n",
      "Blais scrubs Stanley Cup before parade in Quebec hometown\n",
      "Blues forward celebrated by thousands of Montmagny residents\n",
      "2019-07-31\n",
      "20:30pm\n",
      "-----------------\n",
      "Anaheim Ducks key statistics\n",
      "Getzlaf's scoring, Kase's shot volume need to improve\n",
      "2019-08-01\n",
      "00:00am\n",
      "-----------------\n",
      "NHL Free Agent Tracker\n",
      "Complete list of signings by team, available players\n",
      "2019-08-01\n",
      "13:17pm\n",
      "-----------------\n",
      "Rees not rushing development with Hurricanes\n",
      "Forward prospect looking to play full season of junior hockey, work on two-way game\n",
      "2019-08-01\n",
      "00:00am\n",
      "-----------------\n",
      "Zagidulin following Rittich's path to Flames\n",
      "Goalie prospect looking to transition to game in North America this season\n",
      "2019-08-01\n",
      "00:00am\n",
      "-----------------\n",
      "Fantasy team previews for 2019-20 season\n",
      "NHL.com identifies relevant players, storylines from each roster around League\n",
      "2019-08-01\n",
      "00:00am\n",
      "-----------------\n",
      "Lafreniere embracing status as projected No. 1 pick in 2020 Draft\n",
      "Left wing proving adept at handling pressure, eyes bigger role at World Junior Championship\n",
      "2019-07-31\n",
      "00:00am\n",
      "-----------------\n",
      "Butcher signs three-year contract with Devils, avoids arbitration hearing\n",
      "Defenseman gets $3.73 million annually after 30-point season\n",
      "2019-07-31\n",
      "10:03am\n",
      "-----------------\n",
      "Neal's history with Oilers coach fuels optimism following trade\n",
      "Forward played for Tippett as NHL rookie, struggled with Flames last season\n",
      "2019-07-31\n",
      "20:22pm\n",
      "-----------------\n",
      "2019-20 NHL Trade Tracker\n",
      "Official deals since June 14\n",
      "2019-07-30\n",
      "10:53am\n",
      "-----------------\n",
      "Laine, Marner, Rantanen among top unsigned restricted free agents\n",
      "Connor, Point, Tkachuk also among those waiting for contract or offer sheet\n",
      "2019-07-31\n",
      "10:15am\n",
      "-----------------\n",
      "Best remaining unrestricted free agents\n",
      "Shattenkirk, Gardiner, Marleau, Thornton among those available\n",
      "2019-08-01\n",
      "16:48pm\n",
      "-----------------\n",
      "2019 NHL Draft first-round pick signings tracker\n",
      "Status of 31 players chosen in opening round in Vancouver\n",
      "2019-07-19\n",
      "13:00pm\n",
      "-----------------\n",
      "Fantasy hockey top 250 rankings for 2019-20\n",
      "Panthers have Bobrovsky, Barkov among 20 best; rookies Kakko, Makar join Hughes in first 100; Gusev, Neal added to list\n",
      "2019-08-01\n",
      "13:00pm\n"
     ]
    }
   ],
   "source": [
    "# Retrieve the parent divs for all articles\n",
    "results = soup.find_all('li', class_='mixed-feed__item--article')\n",
    "# Loop through results to retrieve article title, header, and timestamp of article\n",
    "for result in results:\n",
    "    title = result.find('h4', class_='mixed-feed__header').text\n",
    "\n",
    "    lede = result.find('h5', class_='mixed-feed__subheader').text\n",
    "\n",
    "    # The time and date of article publication\n",
    "    date = result.find('time')['datetime']\n",
    "    # Slice the datetime string for the date\n",
    "    article_date = date[:10]\n",
    "    # Slice the datetime string for the time\n",
    "    time = date[11:16]\n",
    "    # Determine whether article was published in AM or PM\n",
    "    if (int(time[:2]) >= 13):\n",
    "        meridiem = 'pm'\n",
    "    else:\n",
    "        meridiem = 'am'\n",
    "\n",
    "    # Concatenate time string\n",
    "    time = time + meridiem\n",
    "    print('-----------------')\n",
    "    print(title)\n",
    "    print(lede)\n",
    "    print(article_date)\n",
    "    print(time)\n",
    "\n",
    "    # Dictionary to be inserted into MongoDB\n",
    "\n",
    "    # Insert dictionary into MongoDB as a document\n"
   ]
  },
  {
   "cell_type": "code",
   "execution_count": null,
   "metadata": {
    "collapsed": true
   },
   "outputs": [],
   "source": [
    "# Display the MongoDB records created above\n",
    "articles = db.articles.find()\n",
    "for article in articles:\n",
    "    print(article)"
   ]
  }
 ],
 "metadata": {
  "kernelspec": {
   "display_name": "Python 3",
   "language": "python",
   "name": "python3"
  },
  "language_info": {
   "codemirror_mode": {
    "name": "ipython",
    "version": 3
   },
   "file_extension": ".py",
   "mimetype": "text/x-python",
   "name": "python",
   "nbconvert_exporter": "python",
   "pygments_lexer": "ipython3",
   "version": "3.7.3"
  },
  "varInspector": {
   "cols": {
    "lenName": 16,
    "lenType": 16,
    "lenVar": 40
   },
   "kernels_config": {
    "python": {
     "delete_cmd_postfix": "",
     "delete_cmd_prefix": "del ",
     "library": "var_list.py",
     "varRefreshCmd": "print(var_dic_list())"
    },
    "r": {
     "delete_cmd_postfix": ") ",
     "delete_cmd_prefix": "rm(",
     "library": "var_list.r",
     "varRefreshCmd": "cat(var_dic_list()) "
    }
   },
   "types_to_exclude": [
    "module",
    "function",
    "builtin_function_or_method",
    "instance",
    "_Feature"
   ],
   "window_display": false
  }
 },
 "nbformat": 4,
 "nbformat_minor": 2
}
